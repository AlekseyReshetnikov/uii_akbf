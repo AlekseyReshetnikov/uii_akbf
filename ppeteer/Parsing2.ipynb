{
 "cells": [
  {
   "cell_type": "code",
   "execution_count": 1,
   "metadata": {},
   "outputs": [],
   "source": [
    "import asyncio\n",
    "from pyppeteer import launch"
   ]
  },
  {
   "cell_type": "code",
   "execution_count": 29,
   "metadata": {},
   "outputs": [],
   "source": [
    "execPath = 'C:\\Program Files\\Google\\Chrome\\Application\\chrome.exe'\n",
    "data_catalog =\"Data/faq\"\n",
    "faq='https://akbf.ru/education-block/faq/general-issues'\n"
   ]
  },
  {
   "cell_type": "code",
   "execution_count": 2,
   "metadata": {},
   "outputs": [
    {
     "data": {
      "text/plain": [
       "<pyppeteer.network_manager.Response at 0x2cceca2c590>"
      ]
     },
     "execution_count": 2,
     "metadata": {},
     "output_type": "execute_result"
    }
   ],
   "source": [
    "\n",
    "\n",
    "browser = await launch(headless=False, executablePath=execPath) # Запускаем браузер\n",
    "page = await browser.newPage() # Создаем новую вкладку\n",
    "# Переходим на страницу для парсинга\n",
    "await page.goto(faq)\n",
    "\n",
    "# Исполняем JavaScript для получения заголовка страницы\n"
   ]
  },
  {
   "cell_type": "code",
   "execution_count": 10,
   "metadata": {},
   "outputs": [],
   "source": [
    "import os\n",
    "from urllib.parse import urlparse\n",
    "\n",
    "\n",
    "if not os.path.exists(data_catalog):\n",
    "    os.makedirs(data_catalog)\n",
    "\n",
    "async def save_questions(page, title ):\n",
    "    # title = await page.evaluate('() => document.title')\n",
    "    url = await page.evaluate('() => window.location.href')\n",
    "    parsed_url = urlparse(url)\n",
    "    last_part = parsed_url.path.split('/')[-1]    # Находим элемент с классом, начинающимся на \"content\"\n",
    "    element = await page.querySelector('[class^=\"content\"]')\n",
    "    if element:\n",
    "        # Получаем текстовое содержимое элемента\n",
    "        text_content = await page.evaluate('(element) => element.textContent', element)\n",
    "        print('Содержимое элемента с классом, начинающимся на \"content\":', text_content[:100])\n",
    "    else:\n",
    "        print('Элемент с классом, начинающимся на \"content\", не найден')\n",
    "\n",
    "    questions = await element.querySelectorAll('[class^=\"question\"]')    \n",
    "    lines = []\n",
    "    lines.append(f\"# {title}\")\n",
    "    for qe in questions:\n",
    "        q = await qe.querySelector('[class^=\"q\"]')\n",
    "        a = await qe.querySelector('[class^=\"a\"]')\n",
    "        # Получаем текстовое содержимое каждой кнопки\n",
    "        tq = await page.evaluate('(e) => e.textContent', q)\n",
    "        ta = await page.evaluate('(e) => e.textContent', a)\n",
    "        lines.append(f\"## {tq}\")\n",
    "        lines.append(ta)\n",
    "\n",
    "    # print(lines)\n",
    "\n",
    "\n",
    "    with open(f\"{data_catalog}/{last_part}.md\",\"w\",encoding=\"utf-8\") as f:\n",
    "        for line in lines:\n",
    "                f.write(line + '\\n')\n",
    "            "
   ]
  },
  {
   "cell_type": "code",
   "execution_count": 12,
   "metadata": {},
   "outputs": [
    {
     "name": "stdout",
     "output_type": "stream",
     "text": [
      "Содержимое элемента с классом, начинающимся на \"content\": Какие инструменты торгуются на Фондовом рынке Московской бирже?Фондовый рынок Московской Биржи делит\n",
      "Содержимое элемента с классом, начинающимся на \"content\": Как мне открыть счет?Вы можете открыть брокерский счёт, в том числе ИИС, дистанционно через сайт, на\n",
      "Содержимое элемента с классом, начинающимся на \"content\": Кто такой инвестиционный советник?Статус инвестиционного советника, необходимый для оказания услуги \n",
      "Содержимое элемента с классом, начинающимся на \"content\": Что такое паевой инвестиционный фонд (ПИФ)?Паевой инвестиционный фонд (ПИФ, Фонд) — это форма коллек\n",
      "Содержимое элемента с классом, начинающимся на \"content\": Для какого типа счета доступна услуга «Модельный портфель»?Услуга находится на стадии тестирования и\n",
      "Содержимое элемента с классом, начинающимся на \"content\": Что такое доверительное управление (ДУ)?Доверительное управление – это деятельность по управлению це\n",
      "Содержимое элемента с классом, начинающимся на \"content\": ИИС и брокерский счёт – в чем отличие?Отличие ИИС от брокерского счета, плюсы и минусы каждогоБрокер\n",
      "Содержимое элемента с классом, начинающимся на \"content\": Почему важно открыть ИИС как можно скорее?Срок действия ИИС привязан к моменту открытия счета, а не \n",
      "Содержимое элемента с классом, начинающимся на \"content\": Как можно использовать торговлю с плечом?Лонг (длинная позиция) – покупка какого-либо финансового ин\n",
      "Содержимое элемента с классом, начинающимся на \"content\": Как установить?Установить приложение можно на мобильное устройство, скачав в PlayMarket (на Android)\n",
      "Содержимое элемента с классом, начинающимся на \"content\": Как получить логин и пароль для входа?Для подключения необходимо придумать самостоятельно Логин (тре\n",
      "Содержимое элемента с классом, начинающимся на \"content\": Налогообложение и налоговые льготы: Как удерживается НДФЛ?АКБФ является налоговым агентом и самостоя\n",
      "Содержимое элемента с классом, начинающимся на \"content\": Кто такой квалифицированный инвестор?Квалифицированным инвестором именуется физическое или юридическ\n",
      "Содержимое элемента с классом, начинающимся на \"content\": Что могут вирусы?\n",
      "Воровать деньги с мобильного счета, звонить или отправлять SMS на платные номера д\n",
      "Содержимое элемента с классом, начинающимся на \"content\": Что такое ИИС?Индивидуальный инвестиционный счет (ИИС) – это особый брокерский счет, инвестирование \n",
      "Содержимое элемента с классом, начинающимся на \"content\": Можно ли сейчас открыть ИИС?Да, можно\n",
      "Если на данный момент у вас нет действующего ИИС, вы можете от\n"
     ]
    }
   ],
   "source": [
    "fw = True\n",
    "while fw:\n",
    "    element = await page.querySelector('.chips___1AewC')\n",
    "    if not element:\n",
    "        break\n",
    "    buttons = await element.querySelectorAll('button')\n",
    "    fw = False\n",
    "    f = False\n",
    "    for button in buttons:\n",
    "        # Получаем текстовое содержимое каждой кнопки\n",
    "        if f:\n",
    "            fw = True\n",
    "            await button.click()\n",
    "            # Ожидание обновления страницы\n",
    "            await page.waitForNavigation()            \n",
    "            break\n",
    "        text_content = await page.evaluate('(button) => button.textContent', button)\n",
    "        class_list = await page.evaluate('(button) => Array.from(button.classList)', button)\n",
    "        if any(class_name.startswith('active') for class_name in class_list):\n",
    "            title = await page.evaluate('(button) => button.textContent', button)\n",
    "            await save_questions(page, title)\n",
    "            f=True\n",
    "        # print('Текст кнопки:', text_content)\n",
    "\n",
    "\n"
   ]
  },
  {
   "cell_type": "code",
   "execution_count": null,
   "metadata": {},
   "outputs": [],
   "source": [
    "url=\"https://akbf.ru/education-block/faq/comparison-iis-bs\"\n",
    "await page.goto(url)\n"
   ]
  },
  {
   "cell_type": "code",
   "execution_count": 18,
   "metadata": {},
   "outputs": [
    {
     "name": "stdout",
     "output_type": "stream",
     "text": [
      "Содержимое элемента с классом, начинающимся на \"content\": ИИС и брокерский счёт – в чем отличие?Отличие ИИС от брокерского счета, плюсы и минусы каждогоБрокер\n"
     ]
    },
    {
     "data": {
      "text/plain": [
       "['# ИИС III',\n",
       " '## ИИС и брокерский счёт – в чем отличие?',\n",
       " 'Отличие ИИС от брокерского счета, плюсы и минусы каждого',\n",
       " 'Брокерский счёт – это счет, открытый в организации, имеющей лицензию ЦБ РФ на осуществление брокерской деятельности, с целью торговли на бирже.',\n",
       " 'ИИС – это частный случай брокерского счета, инвестирование через который дает больше возможностей получить инвестиционный налоговый вычет от государства']"
      ]
     },
     "execution_count": 18,
     "metadata": {},
     "output_type": "execute_result"
    }
   ],
   "source": [
    "url = await page.evaluate('() => window.location.href')\n",
    "parsed_url = urlparse(url)\n",
    "last_part = parsed_url.path.split('/')[-1]    # Находим элемент с классом, начинающимся на \"content\"\n",
    "element = await page.querySelector('[class^=\"content\"]')\n",
    "if element:\n",
    "    # Получаем текстовое содержимое элемента\n",
    "    text_content = await page.evaluate('(element) => element.textContent', element)\n",
    "    print('Содержимое элемента с классом, начинающимся на \"content\":', text_content[:100])\n",
    "else:\n",
    "    print('Элемент с классом, начинающимся на \"content\", не найден')\n",
    "\n",
    "h = await element.querySelector('[class^=\"header\"]')    \n",
    "lines = []\n",
    "lines.append(f\"# {title}\")\n",
    "if h:\n",
    "    pp = await h.querySelectorAll('[class^=\"typo\"]')    \n",
    "    f=\"## \"\n",
    "    for p in pp:\n",
    "        th = await page.evaluate('(e) => e.textContent', p)\n",
    "        lines.append(f+th)\n",
    "        f=\"\"\n",
    "\n",
    "lines"
   ]
  },
  {
   "cell_type": "code",
   "execution_count": 19,
   "metadata": {},
   "outputs": [
    {
     "name": "stdout",
     "output_type": "stream",
     "text": [
      "Вид инвестиционного налогового вычета:\n",
      "['В сумме денежных средств, внесенных в течение года на ИИС (налоговый вычет типа А)', 'В сумме положительного финансового результата, полученного по операциям, учитываемым на ИИС (налоговый вычет типа Б)', 'В размере положительного финансового результата, полученного в налоговом периоде от реализации (погашения) определенных ценных бумаг (долгосрочное владение)', 'Получение вычета, независимого от финансового результата', 'Освобождение от НДФЛ валютной переоценки еврооблигаций Минфина', 'Сальдирование результата с нескольких счетов', 'Срок существования счета', 'Частичный вывод средств', 'Ограничения на пополнение счета', 'Что можно внести на счет', 'Количество счетов', 'Что можно и нельзя купить на счет']\n",
      "ИИС\n",
      "['Возможен возврат НДФЛ до 52 000 ₽ в год, независимо от финансового результата по ИИС', 'Освобождение от уплаты НДФЛ полученного положительного финансового результата при владении ИИС не менее 3х лет', 'Не применимо', 'Предусмотрен налоговым вычетом типа А. Он позволяет вернуть до 52 тысяч рублей в год с учетом суммы взноса на ИИС и уплаченного НДФЛ.', 'Да', 'Нельзя', 'Не менее 3х лет для получения налогового вычета', 'Не доступен, только через закрытие счета', 'Не более 1 млн рублей в год', 'Только рубли, кроме случая перевода активов с ИИС другого проф. участника', '1', 'Нельзя торговать на Форекс, покупать ОФЗ-н и иностранные активы, если только они не торгуются на бирже']\n",
      "Обычный брокерский счёт\n",
      "['Не применимо', 'Не применимо', 'Освобождение от НДФЛ дохода от торговых операций на 9 млн. руб. и выше:  по ценным бумагам, обращающимся на организованных торгах российского организатора торговли, приобретенным после 01.01.2014, включая паи ОПИФов, и находящихся в собственности не менее 3х лет.', 'Нет', 'Да', 'Можно', 'Нет ограничений', 'Возможен в любое время', 'Нет ограничений', 'Рубли, иностранную валюту, акции, облигации, драгоценные металлы', 'Нет ограничений', 'Торговля различными активами на различных площадках – доступ ко всем рынкам']\n"
     ]
    }
   ],
   "source": [
    "t = await element.querySelector('[class^=\"table\"]')   \n",
    "hs = []\n",
    "columns = []\n",
    "if t:\n",
    "    tcs = await t.querySelectorAll('[class^=\"table-column\"]')\n",
    "    for tc in tcs:\n",
    "        th = await tc.querySelector('[class^=\"table-header\"]')\n",
    "        colt = \"\"\n",
    "        items = []\n",
    "        if th:\n",
    "            colt = await page.evaluate('(e) => e.textContent', th)\n",
    "        ti = await tc.querySelector('[class^=\"table-items\"]') \n",
    "        if ti:\n",
    "            tis = await ti.querySelectorAll('[class^=\"table-item\"]')                   \n",
    "            for i in tis:\n",
    "                text = await page.evaluate('(e) => e.textContent', i)\n",
    "                items.append(text)\n",
    "        print(colt)\n",
    "        print(items)\n",
    "        hs.append(colt)\n",
    "        columns.append(items)\n"
   ]
  },
  {
   "cell_type": "code",
   "execution_count": 22,
   "metadata": {},
   "outputs": [],
   "source": [
    "data = []\n",
    "col = columns[0]\n",
    "for i in range(len(col)):\n",
    "    row = []\n",
    "    for j in range(len(columns)):\n",
    "        row.append(columns[j][i])\n",
    "    data.append(row)\n",
    "table = {\"header\":hs, \"data\":data}\n",
    "# table\n"
   ]
  },
  {
   "cell_type": "code",
   "execution_count": 23,
   "metadata": {},
   "outputs": [],
   "source": [
    "import json\n",
    "jt = json.dumps(table,ensure_ascii=False, indent=1)\n",
    "with open(f\"{data_catalog}/{last_part}.json\",\"w\",encoding=\"utf-8\") as f:\n",
    "    f.write(jt)"
   ]
  },
  {
   "cell_type": "code",
   "execution_count": 24,
   "metadata": {},
   "outputs": [],
   "source": [
    "\n",
    "# print(lines)\n",
    "\n",
    "\n",
    "with open(f\"{data_catalog}/{last_part}.md\",\"w\",encoding=\"utf-8\") as f:\n",
    "    for line in lines:\n",
    "            f.write(line + '\\n')\n"
   ]
  },
  {
   "cell_type": "code",
   "execution_count": 28,
   "metadata": {},
   "outputs": [
    {
     "data": {
      "text/plain": [
       "{'adviser': 'Инвестиционный советник',\n",
       " 'ak-bars-trade': 'АКБФ Трейд',\n",
       " 'comparison-iis-bs': 'ИИС III',\n",
       " 'general-issues': 'Общие вопросы',\n",
       " 'individual-investment-account-3': 'ИИС III',\n",
       " 'individual-investment-account': 'ИИС',\n",
       " 'information-safety': 'Информационная безопасность',\n",
       " 'lifehack-individual-investment-account': 'Лайфхаки ИИС',\n",
       " 'margin-trading': 'Маржинальное кредитование',\n",
       " 'model-portfolios': 'Модельный портфель',\n",
       " 'mutual-funds': 'Паевые фонды',\n",
       " 'quik': 'QUIK',\n",
       " 'Tax': 'Налоги',\n",
       " 'testinvest': 'Тестирование инвесторов',\n",
       " 'trading-account': 'Брокерский счет',\n",
       " 'trust-strategies': 'Доверительное управление'}"
      ]
     },
     "execution_count": 28,
     "metadata": {},
     "output_type": "execute_result"
    }
   ],
   "source": [
    "files = os.listdir(data_catalog)\n",
    "di = {}\n",
    "for file in files:\n",
    "    if file.endswith(\".md\"):\n",
    "        with open(os.path.join(data_catalog, file), 'r', encoding='utf-8') as f:\n",
    "            content = f.readline()\n",
    "            di[file[:-3]]=content[2:-1]\n",
    "di"
   ]
  }
 ],
 "metadata": {
  "kernelspec": {
   "display_name": "env",
   "language": "python",
   "name": "python3"
  },
  "language_info": {
   "codemirror_mode": {
    "name": "ipython",
    "version": 3
   },
   "file_extension": ".py",
   "mimetype": "text/x-python",
   "name": "python",
   "nbconvert_exporter": "python",
   "pygments_lexer": "ipython3",
   "version": "3.11.7"
  }
 },
 "nbformat": 4,
 "nbformat_minor": 2
}
