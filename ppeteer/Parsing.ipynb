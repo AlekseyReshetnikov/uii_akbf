{
 "cells": [
  {
   "cell_type": "code",
   "execution_count": 1,
   "metadata": {},
   "outputs": [],
   "source": [
    "import asyncio\n",
    "from pyppeteer import launch"
   ]
  },
  {
   "cell_type": "code",
   "execution_count": 25,
   "metadata": {},
   "outputs": [
    {
     "name": "stdout",
     "output_type": "stream",
     "text": [
      "Заголовок страницы: Вопросы и ответы об инвестировании и работе с АКБФ (ранее - АК БАРС Финанс)\n"
     ]
    }
   ],
   "source": [
    "execPath = 'C:\\Program Files\\Google\\Chrome\\Application\\chrome.exe'\n",
    "\n",
    "browser = await launch(headless=False, executablePath=execPath) # Запускаем браузер\n",
    "page = await browser.newPage() # Создаем новую вкладку\n",
    "faq='https://akbf.ru/education-block/faq/general-issues'\n",
    "# Переходим на страницу для парсинга\n",
    "await page.goto(faq)\n",
    "\n",
    "# Исполняем JavaScript для получения заголовка страницы\n",
    "title = await page.evaluate('() => document.title')\n",
    "print(f'Заголовок страницы: {title}')\n",
    "\n"
   ]
  },
  {
   "cell_type": "code",
   "execution_count": 31,
   "metadata": {},
   "outputs": [
    {
     "name": "stdout",
     "output_type": "stream",
     "text": [
      "Адрес страницы: https://akbf.ru/education-block/faq/general-issues\n"
     ]
    }
   ],
   "source": [
    "# faq='https://akbf.ru/education-block/faq'\n",
    "# # Переходим на страницу для парсинга\n",
    "# await page.goto(faq)\n",
    "current_url = await page.evaluate('() => window.location.href')\n",
    "print('Адрес страницы:', current_url)"
   ]
  },
  {
   "cell_type": "code",
   "execution_count": 32,
   "metadata": {},
   "outputs": [
    {
     "name": "stdout",
     "output_type": "stream",
     "text": [
      "Последняя часть URL: general-issues\n"
     ]
    }
   ],
   "source": [
    "from urllib.parse import urlparse\n",
    "\n",
    "url = \"https://akbf.ru/education-block/faq/general-issues\"\n",
    "parsed_url = urlparse(url)\n",
    "last_part = parsed_url.path.split('/')[-1]\n",
    "\n",
    "print(\"Последняя часть URL:\", last_part)"
   ]
  },
  {
   "cell_type": "code",
   "execution_count": 26,
   "metadata": {},
   "outputs": [
    {
     "data": {
      "text/plain": [
       "<pyppeteer.element_handle.ElementHandle at 0x1c344eab290>"
      ]
     },
     "execution_count": 26,
     "metadata": {},
     "output_type": "execute_result"
    }
   ],
   "source": [
    "element = await page.querySelector('.chips___1AewC')\n",
    "element"
   ]
  },
  {
   "cell_type": "code",
   "execution_count": 27,
   "metadata": {},
   "outputs": [
    {
     "name": "stdout",
     "output_type": "stream",
     "text": [
      "Текст кнопки: Общие вопросы\n",
      "Текст кнопки: Брокерский счет\n",
      "Текст кнопки: Инвестиционный советник\n",
      "Текст кнопки: Паевые фонды\n",
      "Текст кнопки: Модельный портфель\n",
      "Текст кнопки: Доверительное управление\n",
      "Текст кнопки: Сравнение ИИС и БС\n",
      "Текст кнопки: Лайфхаки ИИС\n",
      "Текст кнопки: Маржинальное кредитование\n",
      "Текст кнопки: АКБФ Трейд\n",
      "Текст кнопки: QUIK\n",
      "Текст кнопки: Налоги\n",
      "Текст кнопки: Тестирование инвесторов\n",
      "Текст кнопки: Информационная безопасность\n",
      "Текст кнопки: ИИС\n",
      "Текст кнопки: ИИС III\n"
     ]
    }
   ],
   "source": [
    "if element:\n",
    "    # Находим все дочерние кнопки элемента\n",
    "    buttons = await element.querySelectorAll('button')\n",
    "    for button in buttons:\n",
    "        # Получаем текстовое содержимое каждой кнопки\n",
    "        text_content = await page.evaluate('(button) => button.textContent', button)\n",
    "        print('Текст кнопки:', text_content)"
   ]
  },
  {
   "cell_type": "code",
   "execution_count": 14,
   "metadata": {},
   "outputs": [],
   "source": [
    "\n",
    "class_list = await page.evaluate('(button) => Array.from(button.classList)', buttons[0])\n"
   ]
  },
  {
   "cell_type": "code",
   "execution_count": 16,
   "metadata": {},
   "outputs": [
    {
     "name": "stdout",
     "output_type": "stream",
     "text": [
      "1\n"
     ]
    }
   ],
   "source": [
    "title = \"\"\n",
    "if any(class_name.startswith('active') for class_name in class_list):\n",
    "    title = await page.evaluate('(button) => button.textContent', button)\n",
    "print(title)"
   ]
  },
  {
   "cell_type": "code",
   "execution_count": null,
   "metadata": {},
   "outputs": [],
   "source": [
    "# Нажимаем на кнопку\n",
    "await button.click()"
   ]
  },
  {
   "cell_type": "code",
   "execution_count": 28,
   "metadata": {},
   "outputs": [
    {
     "name": "stdout",
     "output_type": "stream",
     "text": [
      "Содержимое элемента с классом, начинающимся на \"content\": Какие инструменты торгуются на Фондовом рынке Московской бирже?Фондовый рынок Московской Биржи делит\n"
     ]
    }
   ],
   "source": [
    "# Находим элемент с классом, начинающимся на \"content\"\n",
    "element = await page.querySelector('[class^=\"content\"]')\n",
    "if element:\n",
    "    # Получаем текстовое содержимое элемента\n",
    "    text_content = await page.evaluate('(element) => element.textContent', element)\n",
    "    print('Содержимое элемента с классом, начинающимся на \"content\":', text_content[:100])\n",
    "else:\n",
    "    print('Элемент с классом, начинающимся на \"content\", не найден')"
   ]
  },
  {
   "cell_type": "code",
   "execution_count": 34,
   "metadata": {},
   "outputs": [
    {
     "ename": "NetworkError",
     "evalue": "Protocol Error (Runtime.callFunctionOn): Session closed. Most likely the page has been closed.",
     "output_type": "error",
     "traceback": [
      "\u001b[1;31m---------------------------------------------------------------------------\u001b[0m",
      "\u001b[1;31mNetworkError\u001b[0m                              Traceback (most recent call last)",
      "Cell \u001b[1;32mIn[34], line 1\u001b[0m\n\u001b[1;32m----> 1\u001b[0m questions \u001b[38;5;241m=\u001b[39m \u001b[38;5;28;01mawait\u001b[39;00m element\u001b[38;5;241m.\u001b[39mquerySelectorAll(\u001b[38;5;124m'\u001b[39m\u001b[38;5;124m[class^=\u001b[39m\u001b[38;5;124m\"\u001b[39m\u001b[38;5;124mquestion\u001b[39m\u001b[38;5;124m\"\u001b[39m\u001b[38;5;124m]\u001b[39m\u001b[38;5;124m'\u001b[39m)\n\u001b[0;32m      2\u001b[0m questions\n",
      "File \u001b[1;32mc:\\Data\\Git\\NU\\Stag\\akbf\\env\\Lib\\site-packages\\pyppeteer\\element_handle.py:373\u001b[0m, in \u001b[0;36mElementHandle.querySelectorAll\u001b[1;34m(self, selector)\u001b[0m\n\u001b[0;32m    368\u001b[0m \u001b[38;5;28;01masync\u001b[39;00m \u001b[38;5;28;01mdef\u001b[39;00m \u001b[38;5;21mquerySelectorAll\u001b[39m(\u001b[38;5;28mself\u001b[39m, selector: \u001b[38;5;28mstr\u001b[39m) \u001b[38;5;241m-\u001b[39m\u001b[38;5;241m>\u001b[39m List[\u001b[38;5;124m'\u001b[39m\u001b[38;5;124mElementHandle\u001b[39m\u001b[38;5;124m'\u001b[39m]:\n\u001b[0;32m    369\u001b[0m \u001b[38;5;250m    \u001b[39m\u001b[38;5;124;03m\"\"\"Return all elements which match ``selector`` under this element.\u001b[39;00m\n\u001b[0;32m    370\u001b[0m \n\u001b[0;32m    371\u001b[0m \u001b[38;5;124;03m    If no element matches the ``selector``, returns empty list (``[]``).\u001b[39;00m\n\u001b[0;32m    372\u001b[0m \u001b[38;5;124;03m    \"\"\"\u001b[39;00m\n\u001b[1;32m--> 373\u001b[0m     arrayHandle \u001b[38;5;241m=\u001b[39m \u001b[38;5;28;01mawait\u001b[39;00m \u001b[38;5;28mself\u001b[39m\u001b[38;5;241m.\u001b[39mexecutionContext\u001b[38;5;241m.\u001b[39mevaluateHandle(\n\u001b[0;32m    374\u001b[0m         \u001b[38;5;124m'\u001b[39m\u001b[38;5;124m(element, selector) => element.querySelectorAll(selector)\u001b[39m\u001b[38;5;124m'\u001b[39m,\n\u001b[0;32m    375\u001b[0m         \u001b[38;5;28mself\u001b[39m, selector,\n\u001b[0;32m    376\u001b[0m     )\n\u001b[0;32m    377\u001b[0m     properties \u001b[38;5;241m=\u001b[39m \u001b[38;5;28;01mawait\u001b[39;00m arrayHandle\u001b[38;5;241m.\u001b[39mgetProperties()\n\u001b[0;32m    378\u001b[0m     \u001b[38;5;28;01mawait\u001b[39;00m arrayHandle\u001b[38;5;241m.\u001b[39mdispose()\n",
      "File \u001b[1;32mc:\\Data\\Git\\NU\\Stag\\akbf\\env\\Lib\\site-packages\\pyppeteer\\execution_context.py:108\u001b[0m, in \u001b[0;36mExecutionContext.evaluateHandle\u001b[1;34m(self, pageFunction, force_expr, *args)\u001b[0m\n\u001b[0;32m     99\u001b[0m     _obj \u001b[38;5;241m=\u001b[39m \u001b[38;5;28;01mawait\u001b[39;00m \u001b[38;5;28mself\u001b[39m\u001b[38;5;241m.\u001b[39m_client\u001b[38;5;241m.\u001b[39msend(\u001b[38;5;124m'\u001b[39m\u001b[38;5;124mRuntime.callFunctionOn\u001b[39m\u001b[38;5;124m'\u001b[39m, {\n\u001b[0;32m    100\u001b[0m         \u001b[38;5;124m'\u001b[39m\u001b[38;5;124mfunctionDeclaration\u001b[39m\u001b[38;5;124m'\u001b[39m: \u001b[38;5;124mf\u001b[39m\u001b[38;5;124m'\u001b[39m\u001b[38;5;132;01m{\u001b[39;00mpageFunction\u001b[38;5;132;01m}\u001b[39;00m\u001b[38;5;130;01m\\n\u001b[39;00m\u001b[38;5;132;01m{\u001b[39;00msuffix\u001b[38;5;132;01m}\u001b[39;00m\u001b[38;5;130;01m\\n\u001b[39;00m\u001b[38;5;124m'\u001b[39m,\n\u001b[0;32m    101\u001b[0m         \u001b[38;5;124m'\u001b[39m\u001b[38;5;124mexecutionContextId\u001b[39m\u001b[38;5;124m'\u001b[39m: \u001b[38;5;28mself\u001b[39m\u001b[38;5;241m.\u001b[39m_contextId,\n\u001b[1;32m   (...)\u001b[0m\n\u001b[0;32m    105\u001b[0m         \u001b[38;5;124m'\u001b[39m\u001b[38;5;124muserGesture\u001b[39m\u001b[38;5;124m'\u001b[39m: \u001b[38;5;28;01mTrue\u001b[39;00m,\n\u001b[0;32m    106\u001b[0m     })\n\u001b[0;32m    107\u001b[0m \u001b[38;5;28;01mexcept\u001b[39;00m \u001b[38;5;167;01mException\u001b[39;00m \u001b[38;5;28;01mas\u001b[39;00m e:\n\u001b[1;32m--> 108\u001b[0m     \u001b[43m_rewriteError\u001b[49m\u001b[43m(\u001b[49m\u001b[43me\u001b[49m\u001b[43m)\u001b[49m\n\u001b[0;32m    110\u001b[0m exceptionDetails \u001b[38;5;241m=\u001b[39m _obj\u001b[38;5;241m.\u001b[39mget(\u001b[38;5;124m'\u001b[39m\u001b[38;5;124mexceptionDetails\u001b[39m\u001b[38;5;124m'\u001b[39m)\n\u001b[0;32m    111\u001b[0m \u001b[38;5;28;01mif\u001b[39;00m exceptionDetails:\n",
      "File \u001b[1;32mc:\\Data\\Git\\NU\\Stag\\akbf\\env\\Lib\\site-packages\\pyppeteer\\execution_context.py:238\u001b[0m, in \u001b[0;36m_rewriteError\u001b[1;34m(error)\u001b[0m\n\u001b[0;32m    236\u001b[0m     msg \u001b[38;5;241m=\u001b[39m \u001b[38;5;124m'\u001b[39m\u001b[38;5;124mExecution context was destroyed, most likely because of a navigation.\u001b[39m\u001b[38;5;124m'\u001b[39m  \u001b[38;5;66;03m# noqa: E501\u001b[39;00m\n\u001b[0;32m    237\u001b[0m     \u001b[38;5;28;01mraise\u001b[39;00m \u001b[38;5;28mtype\u001b[39m(error)(msg)\n\u001b[1;32m--> 238\u001b[0m \u001b[38;5;28;01mraise\u001b[39;00m error\n",
      "File \u001b[1;32mc:\\Data\\Git\\NU\\Stag\\akbf\\env\\Lib\\site-packages\\pyppeteer\\execution_context.py:99\u001b[0m, in \u001b[0;36mExecutionContext.evaluateHandle\u001b[1;34m(self, pageFunction, force_expr, *args)\u001b[0m\n\u001b[0;32m     96\u001b[0m     \u001b[38;5;28;01mreturn\u001b[39;00m \u001b[38;5;28mself\u001b[39m\u001b[38;5;241m.\u001b[39m_objectHandleFactory(remoteObject)\n\u001b[0;32m     98\u001b[0m \u001b[38;5;28;01mtry\u001b[39;00m:\n\u001b[1;32m---> 99\u001b[0m     _obj \u001b[38;5;241m=\u001b[39m \u001b[38;5;28;01mawait\u001b[39;00m \u001b[38;5;28;43mself\u001b[39;49m\u001b[38;5;241;43m.\u001b[39;49m\u001b[43m_client\u001b[49m\u001b[38;5;241;43m.\u001b[39;49m\u001b[43msend\u001b[49m\u001b[43m(\u001b[49m\u001b[38;5;124;43m'\u001b[39;49m\u001b[38;5;124;43mRuntime.callFunctionOn\u001b[39;49m\u001b[38;5;124;43m'\u001b[39;49m\u001b[43m,\u001b[49m\u001b[43m \u001b[49m\u001b[43m{\u001b[49m\n\u001b[0;32m    100\u001b[0m \u001b[43m        \u001b[49m\u001b[38;5;124;43m'\u001b[39;49m\u001b[38;5;124;43mfunctionDeclaration\u001b[39;49m\u001b[38;5;124;43m'\u001b[39;49m\u001b[43m:\u001b[49m\u001b[43m \u001b[49m\u001b[38;5;124;43mf\u001b[39;49m\u001b[38;5;124;43m'\u001b[39;49m\u001b[38;5;132;43;01m{\u001b[39;49;00m\u001b[43mpageFunction\u001b[49m\u001b[38;5;132;43;01m}\u001b[39;49;00m\u001b[38;5;130;43;01m\\n\u001b[39;49;00m\u001b[38;5;132;43;01m{\u001b[39;49;00m\u001b[43msuffix\u001b[49m\u001b[38;5;132;43;01m}\u001b[39;49;00m\u001b[38;5;130;43;01m\\n\u001b[39;49;00m\u001b[38;5;124;43m'\u001b[39;49m\u001b[43m,\u001b[49m\n\u001b[0;32m    101\u001b[0m \u001b[43m        \u001b[49m\u001b[38;5;124;43m'\u001b[39;49m\u001b[38;5;124;43mexecutionContextId\u001b[39;49m\u001b[38;5;124;43m'\u001b[39;49m\u001b[43m:\u001b[49m\u001b[43m \u001b[49m\u001b[38;5;28;43mself\u001b[39;49m\u001b[38;5;241;43m.\u001b[39;49m\u001b[43m_contextId\u001b[49m\u001b[43m,\u001b[49m\n\u001b[0;32m    102\u001b[0m \u001b[43m        \u001b[49m\u001b[38;5;124;43m'\u001b[39;49m\u001b[38;5;124;43marguments\u001b[39;49m\u001b[38;5;124;43m'\u001b[39;49m\u001b[43m:\u001b[49m\u001b[43m \u001b[49m\u001b[43m[\u001b[49m\u001b[38;5;28;43mself\u001b[39;49m\u001b[38;5;241;43m.\u001b[39;49m\u001b[43m_convertArgument\u001b[49m\u001b[43m(\u001b[49m\u001b[43marg\u001b[49m\u001b[43m)\u001b[49m\u001b[43m \u001b[49m\u001b[38;5;28;43;01mfor\u001b[39;49;00m\u001b[43m \u001b[49m\u001b[43marg\u001b[49m\u001b[43m \u001b[49m\u001b[38;5;129;43;01min\u001b[39;49;00m\u001b[43m \u001b[49m\u001b[43margs\u001b[49m\u001b[43m]\u001b[49m\u001b[43m,\u001b[49m\n\u001b[0;32m    103\u001b[0m \u001b[43m        \u001b[49m\u001b[38;5;124;43m'\u001b[39;49m\u001b[38;5;124;43mreturnByValue\u001b[39;49m\u001b[38;5;124;43m'\u001b[39;49m\u001b[43m:\u001b[49m\u001b[43m \u001b[49m\u001b[38;5;28;43;01mFalse\u001b[39;49;00m\u001b[43m,\u001b[49m\n\u001b[0;32m    104\u001b[0m \u001b[43m        \u001b[49m\u001b[38;5;124;43m'\u001b[39;49m\u001b[38;5;124;43mawaitPromise\u001b[39;49m\u001b[38;5;124;43m'\u001b[39;49m\u001b[43m:\u001b[49m\u001b[43m \u001b[49m\u001b[38;5;28;43;01mTrue\u001b[39;49;00m\u001b[43m,\u001b[49m\n\u001b[0;32m    105\u001b[0m \u001b[43m        \u001b[49m\u001b[38;5;124;43m'\u001b[39;49m\u001b[38;5;124;43muserGesture\u001b[39;49m\u001b[38;5;124;43m'\u001b[39;49m\u001b[43m:\u001b[49m\u001b[43m \u001b[49m\u001b[38;5;28;43;01mTrue\u001b[39;49;00m\u001b[43m,\u001b[49m\n\u001b[0;32m    106\u001b[0m \u001b[43m    \u001b[49m\u001b[43m}\u001b[49m\u001b[43m)\u001b[49m\n\u001b[0;32m    107\u001b[0m \u001b[38;5;28;01mexcept\u001b[39;00m \u001b[38;5;167;01mException\u001b[39;00m \u001b[38;5;28;01mas\u001b[39;00m e:\n\u001b[0;32m    108\u001b[0m     _rewriteError(e)\n",
      "File \u001b[1;32mc:\\Data\\Git\\NU\\Stag\\akbf\\env\\Lib\\site-packages\\pyppeteer\\connection.py:217\u001b[0m, in \u001b[0;36mCDPSession.send\u001b[1;34m(self, method, params)\u001b[0m\n\u001b[0;32m    211\u001b[0m \u001b[38;5;250m\u001b[39m\u001b[38;5;124;03m\"\"\"Send message to the connected session.\u001b[39;00m\n\u001b[0;32m    212\u001b[0m \n\u001b[0;32m    213\u001b[0m \u001b[38;5;124;03m:arg str method: Protocol method name.\u001b[39;00m\n\u001b[0;32m    214\u001b[0m \u001b[38;5;124;03m:arg dict params: Optional method parameters.\u001b[39;00m\n\u001b[0;32m    215\u001b[0m \u001b[38;5;124;03m\"\"\"\u001b[39;00m\n\u001b[0;32m    216\u001b[0m \u001b[38;5;28;01mif\u001b[39;00m \u001b[38;5;129;01mnot\u001b[39;00m \u001b[38;5;28mself\u001b[39m\u001b[38;5;241m.\u001b[39m_connection:\n\u001b[1;32m--> 217\u001b[0m     \u001b[38;5;28;01mraise\u001b[39;00m NetworkError(\n\u001b[0;32m    218\u001b[0m         \u001b[38;5;124mf\u001b[39m\u001b[38;5;124m'\u001b[39m\u001b[38;5;124mProtocol Error (\u001b[39m\u001b[38;5;132;01m{\u001b[39;00mmethod\u001b[38;5;132;01m}\u001b[39;00m\u001b[38;5;124m): Session closed. Most likely the \u001b[39m\u001b[38;5;124m'\u001b[39m\n\u001b[0;32m    219\u001b[0m         \u001b[38;5;124mf\u001b[39m\u001b[38;5;124m'\u001b[39m\u001b[38;5;132;01m{\u001b[39;00m\u001b[38;5;28mself\u001b[39m\u001b[38;5;241m.\u001b[39m_targetType\u001b[38;5;132;01m}\u001b[39;00m\u001b[38;5;124m has been closed.\u001b[39m\u001b[38;5;124m'\u001b[39m\n\u001b[0;32m    220\u001b[0m     )\n\u001b[0;32m    221\u001b[0m \u001b[38;5;28mself\u001b[39m\u001b[38;5;241m.\u001b[39m_lastId \u001b[38;5;241m+\u001b[39m\u001b[38;5;241m=\u001b[39m \u001b[38;5;241m1\u001b[39m\n\u001b[0;32m    222\u001b[0m _id \u001b[38;5;241m=\u001b[39m \u001b[38;5;28mself\u001b[39m\u001b[38;5;241m.\u001b[39m_lastId\n",
      "\u001b[1;31mNetworkError\u001b[0m: Protocol Error (Runtime.callFunctionOn): Session closed. Most likely the page has been closed."
     ]
    }
   ],
   "source": [
    "questions = await element.querySelectorAll('[class^=\"question\"]')\n",
    "questions"
   ]
  },
  {
   "cell_type": "code",
   "execution_count": 33,
   "metadata": {},
   "outputs": [],
   "source": [
    "import os\n",
    "data_catalog =\"Data\"\n",
    "if not os.path.exists(data_catalog):\n",
    "    os.makedirs(data_catalog)"
   ]
  },
  {
   "cell_type": "code",
   "execution_count": 30,
   "metadata": {},
   "outputs": [
    {
     "name": "stdout",
     "output_type": "stream",
     "text": [
      "Q: Какие инструменты торгуются на Фондовом рынке Московской бирже?\n",
      "A: Фондовый рынок Московской Биржи делится на две основные категории:\n",
      "\n",
      " Рынок акций и паев, где торгуются российские и иностранные акции, депозитарные расписки, паи ПИФов, ETF. Например, можно купить акции Apple, Газпрома или депозитарные расписки Mail.ru за рубли.\n",
      " Долговой рынок. Под инструментами долгового рынка понимаются такие инструменты как российские государственные, муниципальные и корпоративные облигации, номинированные в рублях или иностранной валюте (еврооблигации).\n",
      "\n",
      "Список инсрументов.\n",
      "Q: Какие инструменты торгуются на Санкт-Петербургской бирже?\n",
      "A: На Санкт-Петербургской бирже допущены к торгам более 1400 наиболее ликвидных иностранных инструментов (акций, депозитарных расписок и облигаций), таких как Apple, Tesla, Amazon и Netflix. Купить бумаги можно за доллары США, что поможет диверсифицировать инвестиционный портфель.\n",
      "Список инструментов.\n",
      "Q: Какие инструменты торгуются на срочном рынке?\n",
      "A: На Срочном рынке Московской биржи торгуются производные финансовые инструменты: фьючерсы и опционы.\n",
      "В настоящий момент на рынке обращаются фьючерсы, базовыми активами которых являются: Индекс РТС, Индекс ММВБ, Российский индекс волатильности, отраслевые индексы, акции, облигации федерального займа, иностранная валюта и товары, такие как нефть, золото и серебро.\n",
      "Список инструментов.\n",
      "Q: Какие инструменты торгуются на валютном рынке и рынке драгоценных металлов?\n",
      "A: В рамках рынка торгуются такие валюты как: Доллар США (USD), Евро (EUR), Фунты (GBP), Франки (CHF) и т.д., которые вы можете купить или продать за рубли, а также другие валютные пары.\n",
      "Также Вы можете осуществлять торговлю драгоценными металлами. Например, купить Золото (GOLD) или Серебро (SILV). Это расчетные контракты, которые не предусматривают физическую поставку благородного металла.\n",
      "Список инструментов.\n",
      "Q: Что такое акции?\n",
      "A: Акция - эмиссионная ценная бумага, закрепляющая права её владельца (акционера) на получение части прибыли акционерного общества в виде дивидендов, на участие в управлении акционерным обществом и на часть имущества, остающегося после его ликвидации, пропорционально количеству акций, находящихся в собственности у владельца. Соответственно, финансовый результат от операций с акциями складывается из разницы в ценах сделок покупки и продажи и дивидендных выплат (если вы владели акцией на дату составления списка).\n",
      "Ознакомиться со списком инструментов Вы можете на сайте Московской Биржи или в мобильном приложении АКБФ Трейд.\n",
      "Q: Что такое облигации?\n",
      "A: Облигация – ценная бумага, удостоверяющая отношение займа между ее эмитентом (заемщиком) и инвестором (кредитором). Эмитент (тот, кто выпустил) облигации является должником, а вы, приобретая облигации, становитесь кредитором. Облигация, как правило, имеет определенный срок обращения (от одного дня до нескольких лет), но бывают случаи, когда облигации не имеют срока – их называют вечными.\n",
      "Все платежи по облигации обеспечены имуществом эмитента и, в случае банкротства, погашение облигаций осуществляется раньше, чем долг по акциям.\n",
      "Облигации следует рассматривать с двух сторон: со стороны компании-эмитента и с вашей стороны как инвестора.\n",
      "Для эмитентов облигации служат источником финансирования бизнеса, а для инвесторов – источник процентного дохода по ставке выше чем банковский депозит. Данный инструмент считается наименее рисковым.\n",
      "Ознакомиться со списком доступных облигаций Вы можете на сайте Московской Биржи или в мобильном приложении АКБФ Трейд.\n",
      "Q: Что такое производный финансовый инструмент (ПФИ)?\n",
      "A: Это договор (контракт), по которому стороны получают право или обязуются выполнить некоторые действия в отношении базового актива или периодически или единовременно уплачивать денежные суммы в зависимости от изменения цены базового актива. Базовым активом могут выступать ценные бумаги, валюта, товары, иные ПФИ и др.\n",
      "Q: Что такое опцион?\n",
      "A: Опцион или опционный договор – это производный финансовый инструмент. Для держателя/ покупателя понимается право (но не обязанность) купить или продать определенный базовый актив в будущем по определенной цене.\n",
      "Для продавца опциона понимается обязанность исполнить опцион по требованию держателя или по наступлению срока (экспирации).\n",
      "В случае исполнения поставочного опциона осуществляется заложенное в нем обязательство продавца, а для расчетных опционов сделки с базовым активом не происходит, а проводятся только денежные расчеты исходя из цены базового актива.\n",
      "Q: Что такое фьючерс?\n",
      "A: Под фьючерсом понимается обязанность купить или продать определенный актив в определенную дату в будущем по определенной цене.\n",
      "Q: Что такое хеджирование?\n",
      "A: Хеджирование  - это способ ограничения риска неблагоприятного исхода в результате операций с финансовыми инструментами. Для хеджирования надо встать в противоположную позицию по активу через фьючерс.\n",
      "Хеджирование, как правило, осуществляется опционами или фьючерсами.\n",
      "Так, если вы хотите снизить возможные убытки от падения цены на акции в портфеле, продайте фьючерс на ваши акции, который будет балансировать динамику всего портфеля: при росте цены на акции вы будет зарабатывать напрямую, а при падении цен на акции – на фьючерсе.\n",
      "Q: Какой закон защищает активы клиента, переданные брокеру или доверительному управляющему?\n",
      "A: Основным законом, направленным на защиту активов клиентов, является Федеральный закон от 22.04.1996 N 39-ФЗ \"О рынке ценных бумаг\", требующий от брокера, доверительного управляющего, депозитария (далее - профучастник) осуществлять хранение и учет активов клиента отдельно от активов самого профучастника, открывая для этих целей отдельные банковские, депозитарные и иные специальные счета. В случае отзыва лицензии профучастник в первую очередь возвращает клиентам активы с указанных счетов, а в случае банкротства профучастника, согласно статье 185.6.  Федеральный закон от 26.10.2020 № 127-ФЗ от «О несостоятельности и банкротстве» активы клиентов, находящиеся на указанных счетах, не включаются в конкурсную массу профучастника и возвращаются клиентам вне очереди.\n",
      "Q: В какое время проходят торги?\n",
      "A: Фондовый рынок Московской биржи:\n",
      "Основная сессия с 10 :00 до 18:40\n",
      "Вечерняя сессия: с 19:05 до 23:50\n",
      "Подробнее: https://www.moex.com/s1167\n",
      " \n",
      "Валютный рынок Московской биржи:\n",
      "Основная сессия в режиме расчетов TOM (TOMORROW - завтра, расчет валюты на следующий рабочий день): с 07:00 до 23:50\n",
      "Информация о сессиях в режиме расчетов TOD (TODAY - сегодня, расчет валюты в момент совершения сделки) подробно указана на сайте Московской биржи.\n",
      "Подробнее: https://www.moex.com/s135\n",
      " \n",
      "Срочный рынок Московской биржи:\n",
      "Утренняя торговая сессия с 07:00 до 10:00\n",
      "Основная торговая сессия с 10:00 до 14:00\n",
      "Промежуточный клиринг (торги не проводятся) с 14:00 до 14:05\n",
      "Основная торговая сессия с 14:05 до 18:45\n",
      "Вечерний клиринг (торги не проводятся) с 18:45 до 19:00\n",
      "Вечерняя дополнительная сессия с 19:00 до 23:50\n",
      " \n",
      "Подробнее: https://www.moex.com/ru/derivatives/\n",
      " \n",
      "Полная информация по всем рынкам МБ доступна в интерактивном торговом календаре: https://www.moex.com/msn/ru-fo-calendar-2021?show=fo\n",
      " \n",
      "Санкт - Петербургская биржа \n",
      "(торги иностранными ценными бумагами с расчетами в долларах США):\n",
      "Утренняя дополнительная торговая сессия с 07:00 до 10:00\n",
      "Основная торговая сессия с 10:00 до 19:00\n",
      "Дополнительная торговая сессия с 19:00 до 01:45\n",
      "Подробнее: https://spbexchange.ru/ru/stocks/inostrannye/raspisanie/\n",
      "Q: Как выставить заявку на покупку/продажу?\n",
      "A: - Оставить поручение в мобильном приложении АКБФ Трейд;\n",
      "- Через торговую систему QUIK;\n",
      "- Позвонить нам по телефону 8 (800) 200-53-02 или 8 (495) 644-29-98; доб. 1.\n"
     ]
    }
   ],
   "source": [
    "lines = []\n",
    "for qe in questions:\n",
    "    q = await qe.querySelector('[class^=\"q\"]')\n",
    "    a = await qe.querySelector('[class^=\"a\"]')\n",
    "    # Получаем текстовое содержимое каждой кнопки\n",
    "    tq = await page.evaluate('(e) => e.textContent', q)\n",
    "    ta = await page.evaluate('(e) => e.textContent', a)\n",
    "    lines.append(f\"## {tq}\")\n",
    "    lines.append(ta)\n",
    "\n",
    "print(lines)\n",
    "\n",
    "\n",
    "with open(f\"{data_catalog}/{last_part}.md\",\"w\",encoding=\"utf-8\") as f:\n",
    "    for l in lines:\n",
    "        f.write(l)\n",
    "        "
   ]
  },
  {
   "cell_type": "code",
   "execution_count": null,
   "metadata": {},
   "outputs": [],
   "source": []
  },
  {
   "cell_type": "code",
   "execution_count": null,
   "metadata": {},
   "outputs": [],
   "source": [
    "# Закрываем браузер\n",
    "await browser.close()\n"
   ]
  }
 ],
 "metadata": {
  "kernelspec": {
   "display_name": "env",
   "language": "python",
   "name": "python3"
  },
  "language_info": {
   "codemirror_mode": {
    "name": "ipython",
    "version": 3
   },
   "file_extension": ".py",
   "mimetype": "text/x-python",
   "name": "python",
   "nbconvert_exporter": "python",
   "pygments_lexer": "ipython3",
   "version": "3.11.7"
  }
 },
 "nbformat": 4,
 "nbformat_minor": 2
}
